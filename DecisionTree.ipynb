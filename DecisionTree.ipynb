{
 "cells": [
  {
   "cell_type": "markdown",
   "metadata": {},
   "source": [
    "\"La polarización de jugo y fibra de una muestra de caña depende del estrato en el que fue cultivado y su variedad\""
   ]
  },
  {
   "cell_type": "code",
   "execution_count": 1,
   "metadata": {},
   "outputs": [],
   "source": [
    "import pandas as pd\n",
    "import numpy as np\n",
    "import matplotlib.pyplot as plt\n",
    "\n",
    "from sklearn.model_selection import train_test_split\n",
    "from sklearn.metrics import classification_report, confusion_matrix, accuracy_score\n",
    "from sklearn.preprocessing import StandardScaler\n",
    "from sklearn.tree import DecisionTreeClassifier\n",
    "from sklearn.metrics import roc_auc_score\n",
    "from sklearn import preprocessing"
   ]
  },
  {
   "cell_type": "markdown",
   "metadata": {},
   "source": [
    "# Decision Tree Variedad"
   ]
  },
  {
   "cell_type": "code",
   "execution_count": 2,
   "metadata": {},
   "outputs": [],
   "source": [
    "dataset = pd.read_csv('dataset_bascula.csv')"
   ]
  },
  {
   "cell_type": "code",
   "execution_count": 3,
   "metadata": {},
   "outputs": [],
   "source": [
    "data = dataset.drop(columns=['Semana','Mes', 'fecha', 'Grupo', 'Hora','% AR jugo', 'Glucobrix','Acidez', 'Estrato',\n",
    "                             'Brix jugo', 'Pureza jugo', 'Humedad caña', 'Calidad Caña', 'Brix caña', 'Pza. caña',\n",
    "                             '% Jugo', 'Rdto. Pol Bascula', '% Fibra caña','ENVIO'])"
   ]
  },
  {
   "cell_type": "code",
   "execution_count": 4,
   "metadata": {},
   "outputs": [],
   "source": [
    "X = data.iloc[:, :-1].values\n",
    "y = data.iloc[:, -1].values"
   ]
  },
  {
   "cell_type": "code",
   "execution_count": 5,
   "metadata": {},
   "outputs": [],
   "source": [
    "X_train, X_test, y_train, y_test = train_test_split(X, y, test_size = 0.33, random_state = 0)"
   ]
  },
  {
   "cell_type": "code",
   "execution_count": 6,
   "metadata": {},
   "outputs": [],
   "source": [
    "sc = StandardScaler()\n",
    "X_train = sc.fit_transform(X_train)\n",
    "X_test = sc.transform(X_test)"
   ]
  },
  {
   "cell_type": "code",
   "execution_count": 7,
   "metadata": {},
   "outputs": [
    {
     "data": {
      "text/plain": [
       "DecisionTreeClassifier(criterion='entropy', random_state=0)"
      ]
     },
     "execution_count": 7,
     "metadata": {},
     "output_type": "execute_result"
    }
   ],
   "source": [
    "classifier = DecisionTreeClassifier(criterion = 'entropy', random_state = 0)\n",
    "classifier.fit(X_train, y_train)"
   ]
  },
  {
   "cell_type": "code",
   "execution_count": 8,
   "metadata": {},
   "outputs": [
    {
     "name": "stdout",
     "output_type": "stream",
     "text": [
      "['CG 9846']\n"
     ]
    }
   ],
   "source": [
    "print(classifier.predict(sc.transform([[13.56, 11.04]])))"
   ]
  },
  {
   "cell_type": "code",
   "execution_count": 9,
   "metadata": {},
   "outputs": [
    {
     "name": "stdout",
     "output_type": "stream",
     "text": [
      "[['SP 791287' 'SP 716161']\n",
      " ['CG 02-163' 'CP 722086']\n",
      " ['CP 722086' 'CG 9810']\n",
      " ...\n",
      " ['CP 722086' 'CG 9878']\n",
      " ['CG 9878' 'CP 722086']\n",
      " ['SP 791287' 'SP 716161']]\n"
     ]
    }
   ],
   "source": [
    "y_pred = classifier.predict(X_test)\n",
    "print(np.concatenate((y_pred.reshape(len(y_pred),1), y_test.reshape(len(y_test),1)),1))"
   ]
  },
  {
   "cell_type": "code",
   "execution_count": 10,
   "metadata": {},
   "outputs": [
    {
     "name": "stdout",
     "output_type": "stream",
     "text": [
      "[[ 1  0  0 ...  0  1  5]\n",
      " [ 0  0  0 ...  0  0  0]\n",
      " [ 0  0  0 ...  0  0  1]\n",
      " ...\n",
      " [ 0  0  0 ...  0  0  0]\n",
      " [ 3  0  0 ...  0  7 17]\n",
      " [ 6  1  1 ...  0 12 31]]\n"
     ]
    },
    {
     "data": {
      "text/plain": [
       "0.15208070617906683"
      ]
     },
     "execution_count": 10,
     "metadata": {},
     "output_type": "execute_result"
    }
   ],
   "source": [
    "cm = confusion_matrix(y_test, y_pred)\n",
    "print(cm)\n",
    "accuracy_score(y_test, y_pred)"
   ]
  },
  {
   "cell_type": "code",
   "execution_count": 11,
   "metadata": {},
   "outputs": [
    {
     "name": "stdout",
     "output_type": "stream",
     "text": [
      "              precision    recall  f1-score   support\n",
      "\n",
      "   CG 00-033       0.01      0.02      0.01        59\n",
      "   CG 00-102       0.00      0.00      0.00         5\n",
      "    CG 01-53       0.00      0.00      0.00         7\n",
      "   CG 02-163       0.07      0.09      0.08       540\n",
      "   CG 03-025       0.00      0.00      0.00         3\n",
      " CG 05-12517       0.00      0.00      0.00         1\n",
      "     CG 9640       0.00      0.00      0.00         4\n",
      "     CG 9810       0.02      0.03      0.03        90\n",
      "     CG 9846       0.04      0.04      0.04       268\n",
      "     CG 9878       0.08      0.08      0.08       343\n",
      "  CP 01-1341       0.00      0.00      0.00        51\n",
      "  CP 01-1564       0.00      0.00      0.00         3\n",
      "   CP 021564       0.00      0.00      0.00         2\n",
      "   CP 722086       0.33      0.32      0.32      2584\n",
      "   CP 731547       0.14      0.14      0.14       982\n",
      "   CP 881165       0.07      0.07      0.07       432\n",
      "   CP 892143       0.00      0.00      0.00         5\n",
      "   CP 931017       0.00      0.00      0.00         7\n",
      "  CP 97-1931       0.00      0.00      0.00         2\n",
      "   MEX 68P23       0.00      0.00      0.00        28\n",
      "  MEX 79-431       0.05      0.04      0.04       267\n",
      "   PGM 89968       0.00      0.00      0.00        39\n",
      "  PR 67-1355       0.00      0.00      0.00        83\n",
      "   PR 752002       0.00      0.00      0.00        10\n",
      "  PR 87-2080       0.00      0.00      0.00        13\n",
      "   RB 721012       0.00      0.00      0.00         3\n",
      "   RB 732577       0.03      0.04      0.03       195\n",
      "   RB 732908       0.00      0.00      0.00        18\n",
      "  RB 84-5210       0.07      0.05      0.06        41\n",
      "   RB 845210       0.03      0.03      0.03        62\n",
      "   SP 716161       0.08      0.07      0.08       587\n",
      "   SP 791287       0.07      0.07      0.07       453\n",
      "  SP 80-1842       0.00      0.00      0.00         1\n",
      "  SP 83-2847       0.04      0.04      0.04       198\n",
      "      VARIAS       0.06      0.06      0.06       544\n",
      "\n",
      "    accuracy                           0.15      7930\n",
      "   macro avg       0.03      0.03      0.03      7930\n",
      "weighted avg       0.16      0.15      0.15      7930\n",
      "\n"
     ]
    },
    {
     "name": "stderr",
     "output_type": "stream",
     "text": [
      "/Users/gianlucariverabiagioni/opt/anaconda3/lib/python3.8/site-packages/sklearn/metrics/_classification.py:1221: UndefinedMetricWarning: Precision and F-score are ill-defined and being set to 0.0 in labels with no predicted samples. Use `zero_division` parameter to control this behavior.\n",
      "  _warn_prf(average, modifier, msg_start, len(result))\n"
     ]
    }
   ],
   "source": [
    "print(classification_report(y_test, y_pred))"
   ]
  },
  {
   "cell_type": "markdown",
   "metadata": {},
   "source": [
    "# Decision Tree Estrato"
   ]
  },
  {
   "cell_type": "code",
   "execution_count": 12,
   "metadata": {},
   "outputs": [],
   "source": [
    "data2 = dataset.drop(columns=['Semana','Mes', 'fecha', 'Grupo', 'Hora','% AR jugo', 'Glucobrix','Acidez', 'Variedad',\n",
    "                             'Brix jugo', 'Pureza jugo', 'Humedad caña', 'Calidad Caña', 'Brix caña', 'Pza. caña',\n",
    "                             '% Jugo', 'Rdto. Pol Bascula', '% Fibra caña','ENVIO'])"
   ]
  },
  {
   "cell_type": "code",
   "execution_count": 13,
   "metadata": {},
   "outputs": [],
   "source": [
    "data2 = data2[['Pol jugo', 'Pol caña', 'Estrato' ]]"
   ]
  },
  {
   "cell_type": "code",
   "execution_count": 14,
   "metadata": {},
   "outputs": [],
   "source": [
    "data2 = data2.dropna()"
   ]
  },
  {
   "cell_type": "code",
   "execution_count": 15,
   "metadata": {},
   "outputs": [],
   "source": [
    "X = data2.iloc[:, :-1].values\n",
    "y = data2.iloc[:, -1].values"
   ]
  },
  {
   "cell_type": "code",
   "execution_count": 16,
   "metadata": {},
   "outputs": [],
   "source": [
    "X_train, X_test, y_train, y_test = train_test_split(X, y, test_size = 0.33, random_state = 0)"
   ]
  },
  {
   "cell_type": "code",
   "execution_count": 17,
   "metadata": {},
   "outputs": [],
   "source": [
    "sc = StandardScaler()\n",
    "X_train = sc.fit_transform(X_train)\n",
    "X_test = sc.transform(X_test)"
   ]
  },
  {
   "cell_type": "code",
   "execution_count": 18,
   "metadata": {},
   "outputs": [
    {
     "data": {
      "text/plain": [
       "DecisionTreeClassifier(criterion='entropy', random_state=0)"
      ]
     },
     "execution_count": 18,
     "metadata": {},
     "output_type": "execute_result"
    }
   ],
   "source": [
    "classifier = DecisionTreeClassifier(criterion = 'entropy', random_state = 0)\n",
    "classifier.fit(X_train, y_train)"
   ]
  },
  {
   "cell_type": "code",
   "execution_count": 19,
   "metadata": {},
   "outputs": [
    {
     "name": "stdout",
     "output_type": "stream",
     "text": [
      "['ALTO']\n"
     ]
    }
   ],
   "source": [
    "print(classifier.predict(sc.transform([[12.91, 10.62]])))"
   ]
  },
  {
   "cell_type": "code",
   "execution_count": 20,
   "metadata": {},
   "outputs": [
    {
     "name": "stdout",
     "output_type": "stream",
     "text": [
      "[['BAJO' 'BAJO']\n",
      " ['BAJO' 'BAJO']\n",
      " ['BAJO' 'BAJO']\n",
      " ...\n",
      " ['BAJO' 'BAJO']\n",
      " ['MEDIO' 'BAJO']\n",
      " ['BAJO' 'BAJO']]\n"
     ]
    }
   ],
   "source": [
    "y_pred = classifier.predict(X_test)\n",
    "print(np.concatenate((y_pred.reshape(len(y_pred),1), y_test.reshape(len(y_test),1)),1))"
   ]
  },
  {
   "cell_type": "code",
   "execution_count": 21,
   "metadata": {},
   "outputs": [
    {
     "name": "stdout",
     "output_type": "stream",
     "text": [
      "[[   0   32    7]\n",
      " [  38 5668  984]\n",
      " [   4  968  163]]\n"
     ]
    }
   ],
   "source": [
    "cm = confusion_matrix(y_test, y_pred)\n",
    "print(cm)"
   ]
  },
  {
   "cell_type": "code",
   "execution_count": 22,
   "metadata": {},
   "outputs": [
    {
     "name": "stdout",
     "output_type": "stream",
     "text": [
      "              precision    recall  f1-score   support\n",
      "\n",
      "        ALTO       0.00      0.00      0.00        39\n",
      "        BAJO       0.85      0.85      0.85      6690\n",
      "       MEDIO       0.14      0.14      0.14      1135\n",
      "\n",
      "    accuracy                           0.74      7864\n",
      "   macro avg       0.33      0.33      0.33      7864\n",
      "weighted avg       0.74      0.74      0.74      7864\n",
      "\n"
     ]
    }
   ],
   "source": [
    "print(classification_report(y_test, y_pred))"
   ]
  },
  {
   "cell_type": "code",
   "execution_count": 23,
   "metadata": {},
   "outputs": [
    {
     "data": {
      "text/plain": [
       "0.4977363079039938"
      ]
     },
     "execution_count": 23,
     "metadata": {},
     "output_type": "execute_result"
    }
   ],
   "source": [
    "le = preprocessing.OneHotEncoder()\n",
    "\n",
    "y_test_enc = le.fit_transform(y_test.reshape(-1, 1))\n",
    "y_pred_enc = le.fit_transform(y_pred.reshape(-1, 1))\n",
    "\n",
    "roc_auc_score(y_test_enc.toarray(), y_pred_enc.toarray(), multi_class='ovo')"
   ]
  }
 ],
 "metadata": {
  "kernelspec": {
   "display_name": "Python 3",
   "language": "python",
   "name": "python3"
  },
  "language_info": {
   "codemirror_mode": {
    "name": "ipython",
    "version": 3
   },
   "file_extension": ".py",
   "mimetype": "text/x-python",
   "name": "python",
   "nbconvert_exporter": "python",
   "pygments_lexer": "ipython3",
   "version": "3.8.5"
  }
 },
 "nbformat": 4,
 "nbformat_minor": 4
}
